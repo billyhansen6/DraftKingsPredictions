{
 "cells": [
  {
   "cell_type": "markdown",
   "metadata": {},
   "source": [
    "This is the code for upload into Tableau."
   ]
  },
  {
   "cell_type": "code",
   "execution_count": 1,
   "metadata": {},
   "outputs": [],
   "source": [
    "import numpy as np\n",
    "import pandas as pd\n",
    "# Load Data\n",
    "data = pd.read_csv('/Users/sauce/Desktop/DraftKings/ready_data/DraftKingsCleaned.csv', header = None)\n",
    "\n",
    "# rename columns\n",
    "data = data.rename(columns={0: \"season\", \n",
    "                        1:'game_date',\n",
    "                        2: 'player',\n",
    "                        3: 'position',    \n",
    "                        4: 'team',\n",
    "                        5: 'opponent',\n",
    "                        6: 'venue',\n",
    "                        7: 'minutes',\n",
    "                        8: 'usage_rate',\n",
    "                        9: 'rest',\n",
    "                        10: 'avg_threes',\n",
    "                        11: 'avg_reb',\n",
    "                        12: 'avg_ast',\n",
    "                        13: 'avg_stl',\n",
    "                        14: 'avg_blk',\n",
    "                        15: 'avg_tov',\n",
    "                        16: 'avg_pts',\n",
    "                        17: 'avg_points_vs_opp',\n",
    "                        18: 'team_pace',\n",
    "                        19: 'team_ast',\n",
    "                        20: 'team_tov',\n",
    "                        21: 'team_reb_rate',\n",
    "                        22: 'team_offeff',\n",
    "                        23: 'team_defeff',\n",
    "                        24: 'opp_pace',\n",
    "                        25: 'opp_ast',\n",
    "                        26: 'opp_tov',\n",
    "                        27: 'opp_reb_rate',\n",
    "                        28: 'opp_offeff',\n",
    "                        29: 'opp_defeff',\n",
    "                        30: 'opp_pos_avg',\n",
    "                        31: 'salary',\n",
    "                        32: 'fantasy_points',\n",
    "                       })\n",
    "\n",
    "data.to_csv('/Users/sauce/Desktop/DraftKings/TableauData/TableauData.csv',\n",
    "                        sep=',')"
   ]
  },
  {
   "cell_type": "code",
   "execution_count": null,
   "metadata": {},
   "outputs": [],
   "source": []
  }
 ],
 "metadata": {
  "kernelspec": {
   "display_name": "Python 3",
   "language": "python",
   "name": "python3"
  },
  "language_info": {
   "codemirror_mode": {
    "name": "ipython",
    "version": 3
   },
   "file_extension": ".py",
   "mimetype": "text/x-python",
   "name": "python",
   "nbconvert_exporter": "python",
   "pygments_lexer": "ipython3",
   "version": "3.6.4"
  }
 },
 "nbformat": 4,
 "nbformat_minor": 2
}
