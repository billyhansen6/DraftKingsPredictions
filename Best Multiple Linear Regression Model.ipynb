{
 "cells": [
  {
   "cell_type": "code",
   "execution_count": 20,
   "metadata": {},
   "outputs": [],
   "source": [
    "import numpy as np\n",
    "import pandas as pd\n",
    "import matplotlib.pyplot as plt\n",
    "%matplotlib inline\n",
    "from sklearn import metrics\n",
    "from sklearn.model_selection import cross_val_score\n",
    "\n",
    "# Load Data\n",
    "data = pd.read_csv('/Users/sauce/Desktop/DraftKings/ready_data/DraftKingsCleaned.csv', header = None)\n",
    "\n",
    "# rename columns\n",
    "data = data.rename(columns={0: \"season\", \n",
    "                        1:'game_date',\n",
    "                        2: 'player',\n",
    "                        3: 'position',    \n",
    "                        4: 'team',\n",
    "                        5: 'opponent',\n",
    "                        6: 'venue',\n",
    "                        7: 'minutes',\n",
    "                        8: 'usage_rate',\n",
    "                        9: 'rest',\n",
    "                        10: 'avg_threes',\n",
    "                        11: 'avg_reb',\n",
    "                        12: 'avg_ast',\n",
    "                        13: 'avg_stl',\n",
    "                        14: 'avg_blk',\n",
    "                        15: 'avg_tov',\n",
    "                        16: 'avg_pts',\n",
    "                        17: 'avg_points_vs_opp',\n",
    "                        18: 'team_pace',\n",
    "                        19: 'team_ast',\n",
    "                        20: 'team_tov',\n",
    "                        21: 'team_reb_rate',\n",
    "                        22: 'team_offeff',\n",
    "                        23: 'team_defeff',\n",
    "                        24: 'opp_pace',\n",
    "                        25: 'opp_ast',\n",
    "                        26: 'opp_tov',\n",
    "                        27: 'opp_reb_rate',\n",
    "                        28: 'opp_offeff',\n",
    "                        29: 'opp_defeff',\n",
    "                        30: 'opp_pos_avg',\n",
    "                        31: 'salary',\n",
    "                        32: 'fantasy_points',\n",
    "                       })\n",
    "\n",
    "# Avg 10 data\n",
    "data[\"game_date\"] = pd.to_datetime(data.game_date)\n",
    "data.set_index('game_date', inplace=True)\n",
    "data.sort_index(inplace=True)\n",
    "df_rolling = data.groupby(['player']).rolling(10).mean().rename(columns={'season':'season1', 'player':'player1'}).reset_index()\n",
    "data = data.reset_index()\n",
    "df_rolling = df_rolling.drop(columns=['player'])\n",
    "df_rolling = df_rolling.rename(columns = {'season1': 'season', 'player1': 'player'})\n",
    "data = pd.merge(data, df_rolling, on=['player', 'season', 'game_date'], left_index= True , suffixes=['', '_AVG10'])\n",
    "\n",
    "# Avg 3 data\n",
    "data[\"game_date\"] = pd.to_datetime(data.game_date)\n",
    "data.set_index('game_date', inplace=True)\n",
    "data.sort_index(inplace=True)\n",
    "df_rolling = data.groupby(['player']).rolling(3).mean().rename(columns={'season':'season1', 'player':'player1'}).reset_index()\n",
    "data = data.reset_index()\n",
    "df_rolling = df_rolling.drop(columns=['player'])\n",
    "df_rolling = df_rolling.rename(columns = {'season1': 'season', 'player1': 'player'})\n",
    "df = pd.merge(data, df_rolling, on=['player', 'season', 'game_date'], left_index= True , suffixes=['', '_AVG3'])\n",
    "\n",
    "# Drop useless features\n",
    "df = df.drop(columns=['team_AVG10','opponent_AVG10','venue_AVG10','rest_AVG10',\n",
    "                      'avg_threes_AVG10','avg_reb_AVG10','avg_ast_AVG10','avg_stl_AVG10',\n",
    "                      'avg_blk_AVG10','avg_tov_AVG10','avg_pts_AVG10','avg_points_vs_opp_AVG10',\n",
    "                      'team_pace_AVG10','team_ast_AVG10','team_tov_AVG10','team_reb_rate_AVG10',\n",
    "                      'team_defeff_AVG10','opp_pace_AVG10','opp_ast_AVG10','opp_tov_AVG10',\n",
    "                      'opp_reb_rate_AVG10','opp_offeff_AVG10','salary_AVG10',\n",
    "                      'team_AVG3', 'opponent_AVG3', 'venue_AVG3','rest_AVG3',\n",
    "                      'avg_threes_AVG3', 'avg_reb_AVG3','avg_ast_AVG3', 'avg_stl_AVG3', \n",
    "                      'avg_blk_AVG3', 'avg_tov_AVG3','avg_pts_AVG3', \n",
    "                      'avg_points_vs_opp_AVG3', 'team_pace_AVG3','team_ast_AVG3', \n",
    "                      'team_tov_AVG3', 'team_reb_rate_AVG3','team_defeff_AVG3', \n",
    "                      'opp_pace_AVG3','opp_ast_AVG3', 'opp_tov_AVG3', 'opp_reb_rate_AVG3',\n",
    "                      'opp_offeff_AVG3', 'opp_pos_avg_AVG3','salary_AVG3',\n",
    "                      'team_AVG10_AVG3','opponent_AVG10_AVG3', 'venue_AVG10_AVG3', \n",
    "                      'minutes_AVG10_AVG3','usage_rate_AVG10_AVG3', 'rest_AVG10_AVG3',\n",
    "                      'avg_threes_AVG10_AVG3', 'avg_reb_AVG10_AVG3',\n",
    "                      'avg_ast_AVG10_AVG3', 'avg_stl_AVG10_AVG3', 'avg_blk_AVG10_AVG3',\n",
    "                      'avg_tov_AVG10_AVG3', 'avg_pts_AVG10_AVG3',\n",
    "                      'avg_points_vs_opp_AVG10_AVG3', 'team_pace_AVG10_AVG3',\n",
    "                      'team_ast_AVG10_AVG3', 'team_tov_AVG10_AVG3',\n",
    "                      'team_reb_rate_AVG10_AVG3', 'team_offeff_AVG10_AVG3',\n",
    "                      'team_defeff_AVG10_AVG3', 'opp_pace_AVG10_AVG3',\n",
    "                      'opp_ast_AVG10_AVG3', 'opp_tov_AVG10_AVG3',\n",
    "                      'opp_reb_rate_AVG10_AVG3', 'opp_offeff_AVG10_AVG3',\n",
    "                      'opp_defeff_AVG10_AVG3', 'opp_pos_avg_AVG10_AVG3',\n",
    "                      'salary_AVG10_AVG3', 'fantasy_points_AVG10_AVG3', 'position_AVG10_AVG3', 'position_AVG3', 'position_AVG10'])\n",
    "\n",
    "# Fill NAs\n",
    "df['fantasy_points_AVG3'] = df['fantasy_points_AVG3'].fillna(df.groupby(['player', 'season'])['fantasy_points'].transform('mean'))\n",
    "df['opp_defeff_AVG3'] = df['opp_defeff_AVG3'].fillna(df.groupby(['opponent', 'season'])['opp_defeff'].transform('mean'))\n",
    "df['team_offeff_AVG3'] = df['team_offeff_AVG3'].fillna(df.groupby(['team', 'season'])['team_offeff'].transform('mean'))\n",
    "df['usage_rate_AVG3'] = df['usage_rate_AVG3'].fillna(df.groupby(['player', 'season'])['usage_rate'].transform('mean'))\n",
    "df['fantasy_points_AVG10'] = df['fantasy_points_AVG10'].fillna(df.groupby(['player', 'season'])['fantasy_points'].transform('mean'))\n",
    "df['minutes_AVG3'] = df['minutes_AVG3'].fillna(df.groupby(['player', 'season'])['minutes'].transform('mean'))\n",
    "df['opp_pos_avg_AVG10'] = df['opp_pos_avg_AVG10'].fillna(df.groupby(['opponent', 'season'])['opp_pos_avg'].transform('mean'))\n",
    "df['opp_defeff_AVG10'] = df['opp_defeff_AVG10'].fillna(df.groupby(['opponent', 'season'])['opp_defeff'].transform('mean'))\n",
    "df['team_offeff_AVG10'] = df['team_offeff_AVG10'].fillna(df.groupby(['team', 'season'])['team_offeff'].transform('mean'))\n",
    "df['usage_rate_AVG10'] = df['usage_rate_AVG10'].fillna(df.groupby(['player', 'season'])['usage_rate'].transform('mean'))\n",
    "df['minutes_AVG10'] = df['minutes_AVG10'].fillna(df.groupby(['player', 'season'])['minutes'].transform('mean'))\n",
    "\n",
    "# # Drop non predictive columns \n",
    "# df2 = df.drop(columns=['game_date', 'season', 'player', 'team', 'opponent',\n",
    "#                      'minutes', 'usage_rate', 'salary', 'position'])\n",
    "# # Encode Dummies\n",
    "# df2 = pd.get_dummies(df2, columns=['venue', 'rest'], drop_first=True)\n",
    "\n",
    "# # Grab Target Variable and remove it from data.\n",
    "# y = df2['fantasy_points']\n",
    "# X = df2.drop(columns = ['fantasy_points'])\n",
    "\n",
    "# # Split data into train and test sets\n",
    "# # from sklearn.cross_validation import train_test_split\n",
    "# # X_train, X_test, y_train, y_test = train_test_split(X, y, test_size = 0.2, random_state = 0)\n",
    "\n",
    "# # Scale data\n",
    "# # from sklearn.preprocessing import StandardScaler\n",
    "# # sc_X = StandardScaler()\n",
    "# # X_train = sc_X.fit_transform(X_train)\n",
    "# # X_test = sc_X.transform(X_test)"
   ]
  },
  {
   "cell_type": "code",
   "execution_count": 22,
   "metadata": {},
   "outputs": [
    {
     "data": {
      "text/plain": [
       "(47738, 44)"
      ]
     },
     "execution_count": 22,
     "metadata": {},
     "output_type": "execute_result"
    }
   ],
   "source": [
    "df.shape"
   ]
  },
  {
   "cell_type": "code",
   "execution_count": null,
   "metadata": {},
   "outputs": [],
   "source": [
    "import statsmodels.formula.api as sm\n",
    "X = np.append(arr = np.ones((45576, 1)).astype(int), values = X, axis = 1)\n",
    "\n",
    "X_opt = X[:, [1,2,3,4,5,7,8,\n",
    "             13,14,19,20,\n",
    "             21,22,26,27,28,30,\n",
    "             31,32,33,36]]\n",
    "regressor_OLS = sm.OLS(endog = y, exog = X_opt).fit()"
   ]
  },
  {
   "cell_type": "code",
   "execution_count": 16,
   "metadata": {},
   "outputs": [
    {
     "name": "stdout",
     "output_type": "stream",
     "text": [
      "Mean Squared Error: 34.303077046694625\n",
      "R2 Score: 0.8309063763918545\n"
     ]
    }
   ],
   "source": [
    "from sklearn.cross_validation import train_test_split\n",
    "X_train2, X_test2, y_train2, y_test2 = train_test_split(X, y, test_size = 0.2, random_state = 0)\n",
    "\n",
    "from sklearn.linear_model import LinearRegression\n",
    "Mregressor2 = LinearRegression(normalize=True)\n",
    "Mregressor2.fit(X_train2, y_train2)\n",
    "\n",
    "y_pred2 = Mregressor2.predict(X_test2)\n",
    "\n",
    "from sklearn import metrics\n",
    "print('Mean Squared Error:', metrics.mean_squared_error(y_test2, y_pred2))\n",
    "print('R2 Score:', metrics.r2_score(y_test2, y_pred2))"
   ]
  },
  {
   "cell_type": "code",
   "execution_count": 14,
   "metadata": {},
   "outputs": [
    {
     "data": {
      "text/plain": [
       "array(['position', 'avg_threes', 'avg_reb', 'avg_ast', 'avg_stl',\n",
       "       'avg_blk', 'avg_tov', 'avg_pts', 'avg_points_vs_opp', 'team_pace',\n",
       "       'team_ast', 'team_tov', 'team_reb_rate', 'team_offeff',\n",
       "       'team_defeff', 'opp_pace', 'opp_ast', 'opp_tov', 'opp_reb_rate',\n",
       "       'opp_offeff', 'opp_defeff', 'opp_pos_avg', 'minutes_AVG10',\n",
       "       'usage_rate_AVG10', 'team_offeff_AVG10', 'opp_defeff_AVG10',\n",
       "       'opp_pos_avg_AVG10', 'fantasy_points_AVG10', 'minutes_AVG3',\n",
       "       'usage_rate_AVG3', 'team_offeff_AVG3', 'opp_defeff_AVG3',\n",
       "       'fantasy_points_AVG3', 'venue_R', 'rest_2', 'rest_3+', 'rest_3IN4',\n",
       "       'rest_3IN4-B2B', 'rest_4IN5', 'rest_4IN5-B2B', 'rest_5IN5-B2B2B',\n",
       "       'rest_B2B'], dtype=object)"
      ]
     },
     "execution_count": 14,
     "metadata": {},
     "output_type": "execute_result"
    }
   ],
   "source": [
    "X.columns.values"
   ]
  },
  {
   "cell_type": "code",
   "execution_count": 5,
   "metadata": {},
   "outputs": [
    {
     "data": {
      "text/plain": [
       "array([22.69037158,  1.83813215, 29.20377612, ..., 23.97730135,\n",
       "        1.99931182, 26.98127948])"
      ]
     },
     "execution_count": 5,
     "metadata": {},
     "output_type": "execute_result"
    }
   ],
   "source": [
    "y_pred2"
   ]
  },
  {
   "cell_type": "code",
   "execution_count": null,
   "metadata": {},
   "outputs": [],
   "source": []
  }
 ],
 "metadata": {
  "kernelspec": {
   "display_name": "Python 3",
   "language": "python",
   "name": "python3"
  },
  "language_info": {
   "codemirror_mode": {
    "name": "ipython",
    "version": 3
   },
   "file_extension": ".py",
   "mimetype": "text/x-python",
   "name": "python",
   "nbconvert_exporter": "python",
   "pygments_lexer": "ipython3",
   "version": "3.6.4"
  }
 },
 "nbformat": 4,
 "nbformat_minor": 2
}
