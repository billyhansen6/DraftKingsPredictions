{
 "cells": [
  {
   "cell_type": "markdown",
   "metadata": {},
   "source": [
    "This is the code to upload and clean the data and export into a folder with CSVs, where they can be simply uploaded into a SQL Database."
   ]
  },
  {
   "cell_type": "code",
   "execution_count": 2,
   "metadata": {},
   "outputs": [],
   "source": [
    "import numpy as np\n",
    "import pandas as pd\n",
    "import matplotlib.pyplot as plt\n",
    "%matplotlib inline\n",
    "import requests"
   ]
  },
  {
   "cell_type": "markdown",
   "metadata": {},
   "source": [
    "### Upload and Clean Player Stats"
   ]
  },
  {
   "cell_type": "code",
   "execution_count": 3,
   "metadata": {},
   "outputs": [],
   "source": [
    "# 2017/2018 Player Stats\n",
    "url = 'https://www.basketball-reference.com/leagues/NBA_2018_per_game.html#per_game_stats::none'\n",
    "html = requests.get(url).content\n",
    "df_list = pd.read_html(html)\n",
    "playerstats_17_18 = df_list[-1]\n",
    "playerstats_17_18['Season']='2017-2018 Regular Season'\n",
    "playerstats_17_18 = playerstats_17_18.replace({'OKC': 'Oklahoma City', 'BRK': 'Brooklyn','MIA': 'Miami','ORL': 'Orlando',\n",
    "                'MIN': 'Minnesota', 'SAS': 'San Antonio', 'BOS': 'Boston', 'NOP': 'New Orleans',\n",
    "                'POR': 'Portland', 'PHI': 'Philadelphia', 'HOU': 'Houston', 'IND': 'Indiana',\n",
    "                'MIL': 'Milwaukee', 'TOR': 'Toronto', 'CHI': 'Chicago', 'DEN': 'Denver',\n",
    "                'ATL': 'Atlanta', 'CHO': 'Charlotte', 'NYK': 'New York', 'LAL': 'LA Lakers',\n",
    "                'DAL': 'Dallas', 'WAS': 'Washington', 'GSW': 'Golden State', 'LAC': 'LA Clippers', \n",
    "                'PHO': 'Phoenix', 'SAC': 'Sacramento', 'DET': 'Detroit', 'UTA': 'Utah',\n",
    "                'MEM': 'Mamphis','CLE': 'Cleveland'})\n",
    "playerstats_17_18 = playerstats_17_18.rename(columns={\"Tm\": \"Team\"})\n",
    "playerstats_17_18 = playerstats_17_18[playerstats_17_18.Rk.str.contains(\"Rk\") == False]\n",
    "\n",
    "\n",
    "playerstats_17_18.to_csv('/Users/sauce/Desktop/DraftKings/PlayerStats/playerstats_17_18.csv',\n",
    "                        header=False,\n",
    "                        index=False,\n",
    "                        sep=',')"
   ]
  },
  {
   "cell_type": "code",
   "execution_count": 3,
   "metadata": {},
   "outputs": [],
   "source": [
    "# 2016/2017 Player Stats\n",
    "url = 'https://www.basketball-reference.com/leagues/NBA_2017_per_game.html#per_game_stats::none'\n",
    "html = requests.get(url).content\n",
    "df_list = pd.read_html(html)\n",
    "playerstats_16_17 = df_list[-1]\n",
    "playerstats_16_17 = playerstats_16_17.replace({'OKC': 'Oklahoma City', 'BRK': 'Brooklyn','MIA': 'Miami','ORL': 'Orlando',\n",
    "                'MIN': 'Minnesota', 'SAS': 'San Antonio', 'BOS': 'Boston', 'NOP': 'New Orleans',\n",
    "                'POR': 'Portland', 'PHI': 'Philadelphia', 'HOU': 'Houston', 'IND': 'Indiana',\n",
    "                'MIL': 'Milwaukee', 'TOR': 'Toronto', 'CHI': 'Chicago', 'DEN': 'Denver',\n",
    "                'ATL': 'Atlanta', 'CHO': 'Charlotte', 'NYK': 'New York', 'LAL': 'LA Lakers',\n",
    "                'DAL': 'Dallas', 'WAS': 'Washington', 'GSW': 'Golden State', 'LAC': 'LA Clippers', \n",
    "                'PHO': 'Phoenix', 'SAC': 'Sacramento', 'DET': 'Detroit', 'UTA': 'Utah',\n",
    "                'MEM': 'Mamphis','CLE': 'Cleveland'})\n",
    "playerstats_16_17 = playerstats_16_17.rename(columns={\"Tm\": \"Team\"})\n",
    "playerstats_16_17['Season']='2016-2017 Regular Season'\n",
    "playerstats_16_17 = playerstats_16_17[playerstats_16_17.Rk.str.contains(\"Rk\") == False]\n",
    "playerstats_16_17.to_csv('/Users/sauce/Desktop/DraftKings/PlayerStats/playerstats_16_17.csv',\n",
    "                        header=False,\n",
    "                        index=False,\n",
    "                        sep=',')"
   ]
  },
  {
   "cell_type": "markdown",
   "metadata": {},
   "source": [
    "### Upload and Clean Team Stats"
   ]
  },
  {
   "cell_type": "code",
   "execution_count": 4,
   "metadata": {},
   "outputs": [],
   "source": [
    "# 2017-2018 Team Stats\n",
    "url = 'http://www.espn.com/nba/hollinger/teamstats'\n",
    "html = requests.get(url).content\n",
    "df_list = pd.read_html(html)\n",
    "team_stats_17_18 = df_list[-1]\n",
    "team_stats_17_18 = team_stats_17_18.drop(0, 1)\n",
    "team_stats_17_18 = team_stats_17_18.drop(0, 0)\n",
    "team_stats_17_18 = team_stats_17_18.drop(1, 0)\n",
    "team_stats_17_18 = team_stats_17_18.rename(columns={1: \"Team\", \n",
    "                                                    2:'team_pace',\n",
    "                                                    3: 'team_ast',\n",
    "                                                    4: 'team_to',\n",
    "                                                    5: 'team_orr',\n",
    "                                                    6: 'team_drr',\n",
    "                                                    7: 'team_rebr',\n",
    "                                                    8: 'team_eff%',\n",
    "                                                    9: 'team_ts%',\n",
    "                                                    10: 'team_offeff',\n",
    "                                                    11: 'team_defeff'})\n",
    "team_stats_17_18['Season']='2017-2018 Regular Season'\n",
    "team_stats_17_18.to_csv('/Users/sauce/Desktop/DraftKings/TeamStats/team_stats_17_18.csv',\n",
    "                        header=False,\n",
    "                        index=False,\n",
    "                        sep=',')"
   ]
  },
  {
   "cell_type": "code",
   "execution_count": 6,
   "metadata": {},
   "outputs": [],
   "source": [
    "# 2016-2017 Team Stats\n",
    "url = 'http://www.espn.com/nba/hollinger/teamstats/_/year/2017'\n",
    "html = requests.get(url).content\n",
    "df_list = pd.read_html(html)\n",
    "team_stats_16_17 = df_list[-1]\n",
    "team_stats_16_17 = team_stats_16_17.drop(0, 1)\n",
    "team_stats_16_17 = team_stats_16_17.drop(0, 0)\n",
    "team_stats_16_17 = team_stats_16_17.drop(1, 0)\n",
    "team_stats_16_17 = team_stats_16_17.rename(columns={1: \"Team\", \n",
    "                                                    2:'team_pace',\n",
    "                                                    3: 'team_ast',\n",
    "                                                    4: 'team_to',\n",
    "                                                    5: 'team_orr',\n",
    "                                                    6: 'team_drr',\n",
    "                                                    7: 'team_rebr',\n",
    "                                                    8: 'team_eff%',\n",
    "                                                    9: 'team_ts%',\n",
    "                                                    10: 'team_offeff',\n",
    "                                                    11: 'team_defeff'})\n",
    "team_stats_16_17['Season']='2016-2017 Regular Season'\n",
    "team_stats_16_17.to_csv('/Users/sauce/Desktop/DraftKings/TeamStats/team_stats_16_17.csv',\n",
    "                        header=False,\n",
    "                        index=False,\n",
    "                        sep=',')"
   ]
  },
  {
   "cell_type": "markdown",
   "metadata": {},
   "source": [
    "### Upload and Clean Draft Kings Data"
   ]
  },
  {
   "cell_type": "code",
   "execution_count": 6,
   "metadata": {},
   "outputs": [],
   "source": [
    "# DK_16_17\n",
    "dk_16_17 = pd.read_excel('/Users/sauce/Desktop/DraftKings/RawData/NBA-2016-2017-DFS-Dataset.xlsx')\n",
    "dk_16_17 = dk_16_17.rename(index=str, columns={\"DATASET\": \"season\", \n",
    "                                   \"POSITION\": \"dk_position\", \n",
    "                                   'Unnamed: 9': 'fanduual_Pos',\n",
    "                                   'Unnamed: 10': 'yahoo_pos',\n",
    "                                   'SALARY ($)': 'dk_salary',\n",
    "                                   'Unnamed: 15': 'fanduel_points_scored',\n",
    "                                   'Yahoo-$': 'yahoo_points_scored',\n",
    "                                   'Unnamed: 12': 'fanDuel-$',\n",
    "                                   'Unnamed: 13': 'yahoo-$',\n",
    "                                   'FANTASY POINTS SCORED': 'draftkings_points_scored',\n",
    "                                   'Unnamed: 16': 'yahoo_points_scored'\n",
    "                                 })\n",
    "dk_16_17 = dk_16_17.iloc[1:]\n",
    "dk_16_17 = dk_16_17.drop(columns=['fanduual_Pos', \n",
    "                      'yahoo_pos', \n",
    "                      'fanDuel-$', \n",
    "                      'yahoo-$', \n",
    "                      'fanduel_points_scored', \n",
    "                      'yahoo_points_scored'])\n",
    "dk_16_17 = dk_16_17.dropna(subset=[\"dk_position\"])\n",
    "dk_16_17 = dk_16_17.dropna(subset=[\"USAGE \\nRATE (%)\"])\n",
    "dk_16_17 = dk_16_17.round({'USAGE \\nRATE (%)': 2})\n",
    "dk_16_17 = dk_16_17[dk_16_17['USAGE \\nRATE (%)'] < 100]\n",
    "dk_16_17.to_csv('/Users/sauce/Desktop/DraftKings/DKStats/dk_16_17.csv',\n",
    "                        header=False,\n",
    "                        index=False,\n",
    "                        sep=',')"
   ]
  },
  {
   "cell_type": "code",
   "execution_count": 7,
   "metadata": {},
   "outputs": [],
   "source": [
    "dk_17_18 = pd.read_excel('/Users/sauce/Desktop/DraftKings/RawData/NBA-2017-2018-DFS-Dataset.xlsx')\n",
    "dk_17_18 = dk_17_18.rename(index=str, columns={\"DATASET\": \"season\", \n",
    "                                   \"POSITION\": \"dk_position\", \n",
    "                                   'Unnamed: 9': 'fanduual_Pos',\n",
    "                                   'Unnamed: 10': 'yahoo_pos',\n",
    "                                   'SALARY ($)': 'dk_salary',\n",
    "                                   'Unnamed: 15': 'fanduel_points_scored',\n",
    "                                   'Yahoo-$': 'yahoo_points_scored',\n",
    "                                   'Unnamed: 12': 'fanDuel-$',\n",
    "                                   'Unnamed: 13': 'yahoo-$',\n",
    "                                   'FANTASY POINTS SCORED': 'draftkings_points_scored',\n",
    "                                   'Unnamed: 16': 'yahoo_points_scored'\n",
    "                                 })\n",
    "dk_17_18 = dk_17_18.iloc[1:]\n",
    "dk_17_18 = dk_17_18.drop(columns=['fanduual_Pos', \n",
    "                      'yahoo_pos', \n",
    "                      'fanDuel-$', \n",
    "                      'yahoo-$', \n",
    "                      'fanduel_points_scored', \n",
    "                      'yahoo_points_scored'])\n",
    "dk_17_18 = dk_17_18.dropna(subset=[\"dk_position\"])\n",
    "dk_17_18 = dk_17_18.dropna(subset=[\"USAGE \\nRATE (%)\"])\n",
    "dk_17_18 = dk_17_18.round({'USAGE \\nRATE (%)': 2})\n",
    "dk_17_18 = dk_17_18[dk_17_18['USAGE \\nRATE (%)'] < 100]  \n",
    "dk_17_18.to_csv('/Users/sauce/Desktop/DraftKings/DKStats/dk_17_18.csv',\n",
    "                        header=False,\n",
    "                        index=False,\n",
    "                        sep=',')"
   ]
  },
  {
   "cell_type": "markdown",
   "metadata": {},
   "source": [
    "### Upload and Clean Rest Data"
   ]
  },
  {
   "cell_type": "code",
   "execution_count": 9,
   "metadata": {},
   "outputs": [],
   "source": [
    "# Box Score Stats 2017-2018\n",
    "BS_17_18 = pd.read_excel('/Users/sauce/Desktop/DraftKings/RawData/2017-2018_NBA_Box_Score_Team-Stats.xlsx')\n",
    "BS_17_18 = BS_17_18.drop(columns=['VENUE', '1Q', '2Q', '3Q', '4Q', 'OT1',\n",
    "        'OT2', 'OT3', 'OT4', 'F', 'MIN', 'FG', 'FGA', '3P', '3PA', 'FT',\n",
    "        'FTA', 'OR', 'DR', 'TOT', 'A', 'PF', 'ST', 'TO', 'TO TO', 'BL',\n",
    "        'PTS', 'POSS', 'PACE', 'OEFF', 'DEFF','STARTING LINEUPS', 'Unnamed: 36', 'Unnamed: 37', 'Unnamed: 38',\n",
    "        'Unnamed: 39', 'MAIN REF', 'CREW', 'OPENING ODDS',\n",
    "        'OPENING SPREAD', 'OPENING TOTAL', 'MOVEMENTS', 'CLOSING ODDS',\n",
    "        'MONEYLINE', 'HALFTIME', 'BOX SCORE', 'ODDS'])\n",
    "BS_17_18 = BS_17_18.rename(columns={\"TEAMS\": \"Team\"})\n",
    "restTeam = BS_17_18['Team']\n",
    "restTeamEven = restTeam[::2]\n",
    "restTeamOdd = restTeam[1::2]\n",
    "rte = []\n",
    "for i in restTeamEven:\n",
    "    rte.append(i)\n",
    "rto = []\n",
    "for i in restTeamOdd:\n",
    "    rto.append(i)\n",
    "rest_opp = [None]*(len(rte)+len(rto))\n",
    "rest_opp[::2] = rto\n",
    "rest_opp[1::2] = rte\n",
    "BS_17_18[\"Opponent\"] = rest_opp\n",
    "BS_17_18.to_csv('/Users/sauce/Desktop/DraftKings/Rest/BS_17_18.csv',\n",
    "                        header=False,\n",
    "                        index=False,\n",
    "                        sep=',')"
   ]
  },
  {
   "cell_type": "code",
   "execution_count": 10,
   "metadata": {},
   "outputs": [],
   "source": [
    "# Box Score Stats 2016-2017\n",
    "BS_16_17 = pd.read_excel('/Users/sauce/Desktop/DraftKings/RawData/2016-2017_NBA_Box_Score_Team-Stats.xlsx')\n",
    "BS_16_17 = BS_16_17.drop(columns=['VENUE', '1Q', '2Q', '3Q', '4Q', 'OT1',\n",
    "        'OT2', 'OT3', 'OT4', 'F', 'MIN', 'FG', 'FGA', '3P', '3PA', 'FT',\n",
    "        'FTA', 'OR', 'DR', 'TOT', 'A', 'PF', 'ST', 'TO', 'TO TO', 'BL',\n",
    "        'PTS', 'POSS', 'PACE', 'OEFF', 'DEFF','STARTING LINEUPS', 'Unnamed: 36', 'Unnamed: 37', 'Unnamed: 38',\n",
    "        'Unnamed: 39', 'MAIN REF', 'CREW', 'OPENING ODDS',\n",
    "        'OPENING SPREAD', 'OPENING TOTAL', 'MOVEMENTS', 'CLOSING ODDS',\n",
    "        'MONEYLINE', 'HALFTIME', 'BOX SCORE', 'ODDS'])\n",
    "BS_16_17 = BS_16_17.rename(columns={\"TEAMS\": \"Team\"})\n",
    "restTeam = BS_16_17['Team']\n",
    "restTeamEven = restTeam[::2]\n",
    "restTeamOdd = restTeam[1::2]\n",
    "rte = []\n",
    "for i in restTeamEven:\n",
    "    rte.append(i)\n",
    "rto = []\n",
    "for i in restTeamOdd:\n",
    "    rto.append(i)\n",
    "rest_opp = [None]*(len(rte)+len(rto))\n",
    "rest_opp[::2] = rto\n",
    "rest_opp[1::2] = rte\n",
    "BS_16_17[\"Opponent\"] = rest_opp\n",
    "BS_16_17.to_csv('/Users/sauce/Desktop/DraftKings/Rest/BS_16_17.csv',\n",
    "                        header=False,\n",
    "                        index=False,\n",
    "                        sep=',')"
   ]
  },
  {
   "cell_type": "code",
   "execution_count": null,
   "metadata": {},
   "outputs": [],
   "source": []
  }
 ],
 "metadata": {
  "kernelspec": {
   "display_name": "Python 3",
   "language": "python",
   "name": "python3"
  },
  "language_info": {
   "codemirror_mode": {
    "name": "ipython",
    "version": 3
   },
   "file_extension": ".py",
   "mimetype": "text/x-python",
   "name": "python",
   "nbconvert_exporter": "python",
   "pygments_lexer": "ipython3",
   "version": "3.6.4"
  }
 },
 "nbformat": 4,
 "nbformat_minor": 2
}
